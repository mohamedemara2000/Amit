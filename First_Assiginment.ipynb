{
 "cells": [
  {
   "cell_type": "markdown",
   "id": "59bc0967",
   "metadata": {},
   "source": [
    "# Mohamed Emara\n",
    "### First Assingment"
   ]
  },
  {
   "cell_type": "markdown",
   "id": "b80c970b",
   "metadata": {},
   "source": [
    "# First Exc"
   ]
  },
  {
   "cell_type": "code",
   "execution_count": 2,
   "id": "e162f145",
   "metadata": {},
   "outputs": [
    {
     "name": "stdout",
     "output_type": "stream",
     "text": [
      "<class 'int'>\n"
     ]
    }
   ],
   "source": [
    "x=100\n",
    "print(type(x))"
   ]
  },
  {
   "cell_type": "code",
   "execution_count": 4,
   "id": "48393fd4",
   "metadata": {},
   "outputs": [
    {
     "name": "stdout",
     "output_type": "stream",
     "text": [
      "<class 'str'>\n"
     ]
    }
   ],
   "source": [
    "x=\"Hi\"\n",
    "print(type(x))"
   ]
  },
  {
   "cell_type": "code",
   "execution_count": 5,
   "id": "ad39533a",
   "metadata": {},
   "outputs": [
    {
     "name": "stdout",
     "output_type": "stream",
     "text": [
      "<class 'float'>\n"
     ]
    }
   ],
   "source": [
    "x=4.69\n",
    "print(type(x))"
   ]
  },
  {
   "cell_type": "code",
   "execution_count": 6,
   "id": "cc28d426",
   "metadata": {},
   "outputs": [
    {
     "name": "stdout",
     "output_type": "stream",
     "text": [
      "<class 'list'>\n"
     ]
    }
   ],
   "source": [
    "x=[\"Mohamed\",\"Ahmed\",\"Mustafa\"]\n",
    "print(type(x))"
   ]
  },
  {
   "cell_type": "code",
   "execution_count": 7,
   "id": "508b1b03",
   "metadata": {},
   "outputs": [
    {
     "name": "stdout",
     "output_type": "stream",
     "text": [
      "<class 'tuple'>\n"
     ]
    }
   ],
   "source": [
    "x=(\"Mohamed\",\"Ahmed\",\"Mustafa\")\n",
    "print(type(x))"
   ]
  },
  {
   "cell_type": "code",
   "execution_count": 8,
   "id": "998b407b",
   "metadata": {},
   "outputs": [
    {
     "name": "stdout",
     "output_type": "stream",
     "text": [
      "<class 'set'>\n"
     ]
    }
   ],
   "source": [
    "x={\"Mohamed\",\"Ahmed\",\"Mustafa\"}\n",
    "print(type(x))"
   ]
  },
  {
   "cell_type": "code",
   "execution_count": 10,
   "id": "80c272b6",
   "metadata": {},
   "outputs": [
    {
     "name": "stdout",
     "output_type": "stream",
     "text": [
      "<class 'dict'>\n"
     ]
    }
   ],
   "source": [
    "x={\"name\":\"Mohamed\",\n",
    "   \"age\":25\n",
    "  }\n",
    "print(type(x))"
   ]
  },
  {
   "cell_type": "code",
   "execution_count": 11,
   "id": "3fe1e715",
   "metadata": {},
   "outputs": [
    {
     "name": "stdout",
     "output_type": "stream",
     "text": [
      "<class 'bool'>\n"
     ]
    }
   ],
   "source": [
    "x=True\n",
    "print(type(x))"
   ]
  },
  {
   "cell_type": "markdown",
   "id": "1df07514",
   "metadata": {},
   "source": [
    "# Second Exc"
   ]
  },
  {
   "cell_type": "markdown",
   "id": "c54094de",
   "metadata": {},
   "source": [
    "2.1 insert the Correct Syntax to convert x into a floating point number:"
   ]
  },
  {
   "cell_type": "code",
   "execution_count": 14,
   "id": "9cf5a881",
   "metadata": {},
   "outputs": [
    {
     "name": "stdout",
     "output_type": "stream",
     "text": [
      "5.0\n",
      "<class 'float'>\n"
     ]
    }
   ],
   "source": [
    "x=9\n",
    "x=float(x)\n",
    "print(x)\n",
    "print(type(x))"
   ]
  },
  {
   "cell_type": "markdown",
   "id": "5f2ec2cf",
   "metadata": {},
   "source": [
    "2.2 Insert the correct syntax to convert x into a integer."
   ]
  },
  {
   "cell_type": "code",
   "execution_count": 1,
   "id": "c24d21a6",
   "metadata": {},
   "outputs": [
    {
     "name": "stdout",
     "output_type": "stream",
     "text": [
      "4\n",
      "<class 'int'>\n"
     ]
    }
   ],
   "source": [
    "x = 4.7\n",
    "x =int(x)\n",
    "print(x)\n",
    "print(type(x))"
   ]
  },
  {
   "cell_type": "markdown",
   "id": "3f224a5f",
   "metadata": {},
   "source": [
    "# Third Exc"
   ]
  },
  {
   "cell_type": "markdown",
   "id": "b87cefae",
   "metadata": {},
   "source": [
    "3.1 Use the `len()` function to print the length of the string."
   ]
  },
  {
   "cell_type": "code",
   "execution_count": 2,
   "id": "b90a2768",
   "metadata": {},
   "outputs": [
    {
     "name": "stdout",
     "output_type": "stream",
     "text": [
      "11\n"
     ]
    }
   ],
   "source": [
    "x = \"Hello World\"\n",
    "y=len(x)\n",
    "print(y)"
   ]
  },
  {
   "cell_type": "markdown",
   "id": "192c962e",
   "metadata": {},
   "source": [
    "3.2 Get the first character of the string txt."
   ]
  },
  {
   "cell_type": "code",
   "execution_count": 5,
   "id": "60102b25",
   "metadata": {},
   "outputs": [
    {
     "name": "stdout",
     "output_type": "stream",
     "text": [
      "H\n"
     ]
    }
   ],
   "source": [
    "txt = \"Hello World\"\n",
    "x = txt[0]\n",
    "print(x)"
   ]
  },
  {
   "cell_type": "markdown",
   "id": "6f096f1c",
   "metadata": {},
   "source": [
    "3.3 Get the characters from index 2 to index 4."
   ]
  },
  {
   "cell_type": "code",
   "execution_count": 7,
   "id": "5f7d92d1",
   "metadata": {},
   "outputs": [
    {
     "name": "stdout",
     "output_type": "stream",
     "text": [
      "llo\n"
     ]
    }
   ],
   "source": [
    "txt = \"Hello World\"\n",
    "x = txt[2:5]\n",
    "print(x)"
   ]
  },
  {
   "cell_type": "markdown",
   "id": "650cd4b5",
   "metadata": {},
   "source": [
    "* 3.4 Return the string without any whitespace at the beginning or the end.\n",
    "* ` txt.strip()`"
   ]
  },
  {
   "cell_type": "code",
   "execution_count": 44,
   "id": "a0b9b1e9",
   "metadata": {},
   "outputs": [
    {
     "name": "stdout",
     "output_type": "stream",
     "text": [
      "after--->  11\n"
     ]
    }
   ],
   "source": [
    "txt = \" Hello World \"\n",
    "x =txt.strip(\" \")\n",
    "print(\"after---> \",len(x))"
   ]
  },
  {
   "cell_type": "markdown",
   "id": "16227a9d",
   "metadata": {},
   "source": [
    "3.5 Convert the value of `txt` to upper case."
   ]
  },
  {
   "cell_type": "code",
   "execution_count": 45,
   "id": "3bd838da",
   "metadata": {},
   "outputs": [
    {
     "name": "stdout",
     "output_type": "stream",
     "text": [
      "HELLO WORLD\n"
     ]
    }
   ],
   "source": [
    "txt = \"Hello World\"\n",
    "txt = txt.upper()\n",
    "print(txt)\n"
   ]
  },
  {
   "cell_type": "markdown",
   "id": "5ac87748",
   "metadata": {},
   "source": [
    "3.6 Convert the value of `txt` to lower case."
   ]
  },
  {
   "cell_type": "code",
   "execution_count": 46,
   "id": "a9ec97be",
   "metadata": {},
   "outputs": [
    {
     "name": "stdout",
     "output_type": "stream",
     "text": [
      "hello world\n"
     ]
    }
   ],
   "source": [
    "txt = \"Hello World\"\n",
    "txt = txt.lower()\n",
    "print(txt)"
   ]
  },
  {
   "cell_type": "markdown",
   "id": "83b5e711",
   "metadata": {},
   "source": [
    "3.7 Replace the character` H` with a `J`"
   ]
  },
  {
   "cell_type": "code",
   "execution_count": 47,
   "id": "8cfcd763",
   "metadata": {},
   "outputs": [
    {
     "name": "stdout",
     "output_type": "stream",
     "text": [
      "Jello World\n"
     ]
    }
   ],
   "source": [
    "txt = \"Hello World\"\n",
    "txt = txt.replace(\"H\",\"J\")\n",
    "print(txt)"
   ]
  },
  {
   "cell_type": "markdown",
   "id": "09690a6f",
   "metadata": {},
   "source": [
    "3.8 Insert the correct syntax to add a placeholder for the age parameter."
   ]
  },
  {
   "cell_type": "code",
   "execution_count": 48,
   "id": "268ec269",
   "metadata": {},
   "outputs": [
    {
     "name": "stdout",
     "output_type": "stream",
     "text": [
      "My name is John, and I am 36\n"
     ]
    }
   ],
   "source": [
    "age = 36\n",
    "txt = f\"My name is John, and I am {age}\"\n",
    "print(txt)"
   ]
  },
  {
   "cell_type": "markdown",
   "id": "d245b6f8",
   "metadata": {},
   "source": [
    "# Forth Exc"
   ]
  },
  {
   "cell_type": "markdown",
   "id": "5b2bbebe",
   "metadata": {},
   "source": [
    "4.1 The statement below would print a Boolean value, which one?"
   ]
  },
  {
   "cell_type": "code",
   "execution_count": 49,
   "id": "e75544c1",
   "metadata": {},
   "outputs": [
    {
     "name": "stdout",
     "output_type": "stream",
     "text": [
      "True\n"
     ]
    }
   ],
   "source": [
    "print(10 > 9)\n"
   ]
  },
  {
   "cell_type": "markdown",
   "id": "ef27902a",
   "metadata": {},
   "source": [
    "4.2 The statement below would print a Boolean value, which one?"
   ]
  },
  {
   "cell_type": "code",
   "execution_count": 50,
   "id": "b8c40916",
   "metadata": {},
   "outputs": [
    {
     "name": "stdout",
     "output_type": "stream",
     "text": [
      "False\n"
     ]
    }
   ],
   "source": [
    "print(10 == 9)\n"
   ]
  },
  {
   "cell_type": "markdown",
   "id": "92e7bfc2",
   "metadata": {},
   "source": [
    "4.3 The statement below would print a Boolean value, which one?"
   ]
  },
  {
   "cell_type": "code",
   "execution_count": 52,
   "id": "b022d913",
   "metadata": {},
   "outputs": [
    {
     "name": "stdout",
     "output_type": "stream",
     "text": [
      "False\n"
     ]
    }
   ],
   "source": [
    "print(10 < 9)\n"
   ]
  },
  {
   "cell_type": "markdown",
   "id": "06380a03",
   "metadata": {},
   "source": [
    "# Exc 1\n",
    "#### Write a Python program to print the following string in a specific format"
   ]
  },
  {
   "cell_type": "code",
   "execution_count": 54,
   "id": "e72688be",
   "metadata": {},
   "outputs": [
    {
     "name": "stdout",
     "output_type": "stream",
     "text": [
      "Twinkle, twinkle, little star,\n",
      "How I wonder what you are!\n",
      "Up above the world so high,\n",
      "Like a diamond in the sky.\n",
      "Twinkle, twinkle, little star,\n",
      "How I wonder what you are!\n"
     ]
    }
   ],
   "source": [
    "print('''Twinkle, twinkle, little star,\n",
    "How I wonder what you are!\n",
    "Up above the world so high,\n",
    "Like a diamond in the sky.\n",
    "Twinkle, twinkle, little star,\n",
    "How I wonder what you are!''')"
   ]
  },
  {
   "cell_type": "markdown",
   "id": "0414a91b",
   "metadata": {},
   "source": [
    "# Exc 2\n",
    "#### Write a Python program that print the user's first and last name and prints them in reverse order with a space between them."
   ]
  },
  {
   "cell_type": "code",
   "execution_count": 8,
   "id": "9dd8f04c",
   "metadata": {},
   "outputs": [
    {
     "name": "stdout",
     "output_type": "stream",
     "text": [
      "aramE demahoM\n"
     ]
    }
   ],
   "source": [
    "Name_Lastname=\"Mohamed Emara\"\n",
    "\n",
    "print(Name_Lastname[::-1])"
   ]
  },
  {
   "cell_type": "markdown",
   "id": "5efcc774",
   "metadata": {},
   "source": [
    "# Exc 3\n",
    "#### Write a Python program that calculates the area of a circle and radius = 1.1"
   ]
  },
  {
   "cell_type": "code",
   "execution_count": 60,
   "id": "5da38bfa",
   "metadata": {},
   "outputs": [
    {
     "name": "stdout",
     "output_type": "stream",
     "text": [
      "3.8013271108436504\n"
     ]
    }
   ],
   "source": [
    "import numpy as num \n",
    "r=1.1\n",
    "Area=num.pi*(r**2)\n",
    "print(Area)"
   ]
  },
  {
   "cell_type": "markdown",
   "id": "62db7b3d",
   "metadata": {},
   "source": [
    "# Exc 4 \n",
    "#### Write a Python program that accepts a filename from the user and prints the extension of the file."
   ]
  },
  {
   "cell_type": "code",
   "execution_count": 66,
   "id": "618a69f9",
   "metadata": {},
   "outputs": [
    {
     "name": "stdout",
     "output_type": "stream",
     "text": [
      "Enter The Filename: abc.java\n",
      "the extention of the file is: java\n"
     ]
    }
   ],
   "source": [
    "x=input(\"Enter The Filename: \")\n",
    "y=x.split(\".\")\n",
    "print(\"the extention of the file is:\",y[-1])"
   ]
  },
  {
   "cell_type": "markdown",
   "id": "84637efa",
   "metadata": {},
   "source": [
    "# Exercise-5\n",
    "#### Covert from string to list and tuple value =\"Amit\"\n",
    " ## After that\n",
    " ### Relace the index 3 in the list\n",
    "  ### Convert the list to string and print the list"
   ]
  },
  {
   "cell_type": "code",
   "execution_count": 10,
   "id": "dead45e3",
   "metadata": {},
   "outputs": [
    {
     "name": "stdout",
     "output_type": "stream",
     "text": [
      "['A', 'm', 'i', 't']\n",
      "('A', 'm', 'i', 't')\n",
      "['A', 'm', 'i', 'Z']\n",
      "AmiZ\n"
     ]
    }
   ],
   "source": [
    "x=\"Amit\"\n",
    "y=list(x)\n",
    "z=tuple(x)\n",
    "print(y)\n",
    "print(z)\n",
    "y[3]=\"Z\"\n",
    "c=\"\".join(y)\n",
    "print(y)\n",
    "print(c)"
   ]
  },
  {
   "cell_type": "markdown",
   "id": "c77cefad",
   "metadata": {},
   "source": [
    "# Exercise-6\n",
    "#### Write a Python program to display the first and last colors from the following list.\n",
    "#### color_list = [\"Red\",\"Green\",\"White\" ,\"Black\"]\n"
   ]
  },
  {
   "cell_type": "code",
   "execution_count": 78,
   "id": "99895c04",
   "metadata": {},
   "outputs": [
    {
     "name": "stdout",
     "output_type": "stream",
     "text": [
      "Red Black\n"
     ]
    }
   ],
   "source": [
    "color_list = [\"Red\",\"Green\",\"White\" ,\"Black\"]\n",
    "print(color_list[0],color_list[-1])"
   ]
  },
  {
   "cell_type": "code",
   "execution_count": 91,
   "id": "e98ce0ac",
   "metadata": {},
   "outputs": [
    {
     "data": {
      "text/plain": [
       "['Red', 'Black']"
      ]
     },
     "execution_count": 91,
     "metadata": {},
     "output_type": "execute_result"
    }
   ],
   "source": [
    "color_list[::3]"
   ]
  },
  {
   "cell_type": "markdown",
   "id": "8a03c62e",
   "metadata": {},
   "source": [
    "# Exercise-7\n",
    "#### Write a Python program to print the following 'here document'."
   ]
  },
  {
   "cell_type": "code",
   "execution_count": 11,
   "id": "5ef9a5c4",
   "metadata": {},
   "outputs": [
    {
     "name": "stdout",
     "output_type": "stream",
     "text": [
      "Hello Sir,\n",
      "What is your mother tongue:\n",
      "(a) English\n",
      "(b) Arabic\n",
      "(c) Turkish \n"
     ]
    }
   ],
   "source": [
    "print('''Hello Sir,\n",
    "What is your mother tongue:\n",
    "(a) English\n",
    "(b) Arabic\n",
    "(c) Turkish ''')"
   ]
  },
  {
   "cell_type": "markdown",
   "id": "000e4e5b",
   "metadata": {},
   "source": [
    "# Exercise-8\n",
    "###### I need to  check if  link `https://www.google.com/` strart with https or not and if the ` aimt4536@gmail.com` end with .com"
   ]
  },
  {
   "cell_type": "code",
   "execution_count": 96,
   "id": "5b583587",
   "metadata": {},
   "outputs": [
    {
     "name": "stdout",
     "output_type": "stream",
     "text": [
      "True\n",
      "True\n"
     ]
    }
   ],
   "source": [
    "x=\"https://www.google.com/\"\n",
    "y=\"aimt4536@gmail.com\"\n",
    "print(x.startswith(\"https\"))\n",
    "print(y.endswith(\".com\"))"
   ]
  }
 ],
 "metadata": {
  "kernelspec": {
   "display_name": "Python 3 (ipykernel)",
   "language": "python",
   "name": "python3"
  },
  "language_info": {
   "codemirror_mode": {
    "name": "ipython",
    "version": 3
   },
   "file_extension": ".py",
   "mimetype": "text/x-python",
   "name": "python",
   "nbconvert_exporter": "python",
   "pygments_lexer": "ipython3",
   "version": "3.9.12"
  }
 },
 "nbformat": 4,
 "nbformat_minor": 5
}
